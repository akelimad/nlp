{
 "cells": [
  {
   "cell_type": "code",
   "execution_count": 5,
   "id": "9f359ec6",
   "metadata": {},
   "outputs": [],
   "source": [
    "from nltk.tokenize import word_tokenize\n",
    "from nltk.corpus import stopwords\n",
    "from nltk.stem import PorterStemmer\n",
    "from nltk.stem import WordNetLemmatizer\n",
    "import string\n",
    "import nltk"
   ]
  },
  {
   "cell_type": "code",
   "execution_count": 3,
   "id": "9da3c819",
   "metadata": {},
   "outputs": [],
   "source": [
    "en_text = \"Perhaps one of the most significant advances made byArabic mathematicsbegan at this time with the work of al-Khwarizmi, namely the beginnings of algebra. It is important to understand just how significant this new idea was. It was a revolutionary move away from the Greek concept of mathematics which was essentially geometry. Algebra was a unifying theory which allowedrational numbers,irrational numbers, geometrical magnitudes, etc., to all be treated as 'algebraic objects'. It gave mathematics a whole new development path so much broader in concept to that which had existed before, and provided a vehicle for future development of the subject. Another important aspect of the introduction of algebraic ideas was that it allowed mathematics to be applied to itselfin a way which had not happened before.\""
   ]
  },
  {
   "cell_type": "markdown",
   "id": "7ebc9974",
   "metadata": {},
   "source": [
    "# Clear text from ponctuations"
   ]
  },
  {
   "cell_type": "code",
   "execution_count": 6,
   "id": "77557384",
   "metadata": {},
   "outputs": [
    {
     "data": {
      "text/plain": [
       "'Perhaps one of the most significant advances made byArabic mathematicsbegan at this time with the work of alKhwarizmi namely the beginnings of algebra It is important to understand just how significant this new idea was It was a revolutionary move away from the Greek concept of mathematics which was essentially geometry Algebra was a unifying theory which allowedrational numbersirrational numbers geometrical magnitudes etc to all be treated as algebraic objects It gave mathematics a whole new development path so much broader in concept to that which had existed before and provided a vehicle for future development of the subject Another important aspect of the introduction of algebraic ideas was that it allowed mathematics to be applied to itselfin a way which had not happened before'"
      ]
     },
     "execution_count": 6,
     "metadata": {},
     "output_type": "execute_result"
    }
   ],
   "source": [
    "clearedText = en_text.translate(str.maketrans(\"\", \"\", string.punctuation))\n",
    "clearedText"
   ]
  },
  {
   "cell_type": "markdown",
   "id": "bc6634cc",
   "metadata": {},
   "source": [
    "# Tokenization"
   ]
  },
  {
   "cell_type": "code",
   "execution_count": 9,
   "id": "e1a6e075",
   "metadata": {
    "scrolled": true
   },
   "outputs": [
    {
     "name": "stderr",
     "output_type": "stream",
     "text": [
      "[nltk_data] Downloading package stopwords to C:\\Users\\Imad\n",
      "[nltk_data]     AKEL\\AppData\\Roaming\\nltk_data...\n",
      "[nltk_data]   Package stopwords is already up-to-date!\n"
     ]
    },
    {
     "data": {
      "text/plain": [
       "True"
      ]
     },
     "execution_count": 9,
     "metadata": {},
     "output_type": "execute_result"
    }
   ],
   "source": [
    "nltk.download(\"stopwords\")"
   ]
  },
  {
   "cell_type": "code",
   "execution_count": 34,
   "id": "3fc72c5f",
   "metadata": {
    "scrolled": true
   },
   "outputs": [
    {
     "data": {
      "text/plain": [
       "['Perhaps',\n",
       " 'one',\n",
       " 'significant',\n",
       " 'advances',\n",
       " 'made',\n",
       " 'byArabic',\n",
       " 'mathematicsbegan',\n",
       " 'time',\n",
       " 'work',\n",
       " 'alKhwarizmi',\n",
       " 'namely',\n",
       " 'beginnings',\n",
       " 'algebra',\n",
       " 'important',\n",
       " 'understand',\n",
       " 'significant',\n",
       " 'new',\n",
       " 'idea',\n",
       " 'revolutionary',\n",
       " 'move',\n",
       " 'away',\n",
       " 'Greek',\n",
       " 'concept',\n",
       " 'mathematics',\n",
       " 'essentially',\n",
       " 'geometry',\n",
       " 'Algebra',\n",
       " 'unifying',\n",
       " 'theory',\n",
       " 'allowedrational',\n",
       " 'numbersirrational',\n",
       " 'numbers',\n",
       " 'geometrical',\n",
       " 'magnitudes',\n",
       " 'etc',\n",
       " 'treated',\n",
       " 'algebraic',\n",
       " 'objects',\n",
       " 'gave',\n",
       " 'mathematics',\n",
       " 'whole',\n",
       " 'new',\n",
       " 'development',\n",
       " 'path',\n",
       " 'much',\n",
       " 'broader',\n",
       " 'concept',\n",
       " 'existed',\n",
       " 'provided',\n",
       " 'vehicle',\n",
       " 'future',\n",
       " 'development',\n",
       " 'subject',\n",
       " 'Another',\n",
       " 'important',\n",
       " 'aspect',\n",
       " 'introduction',\n",
       " 'algebraic',\n",
       " 'ideas',\n",
       " 'allowed',\n",
       " 'mathematics',\n",
       " 'applied',\n",
       " 'itselfin',\n",
       " 'way',\n",
       " 'happened']"
      ]
     },
     "execution_count": 34,
     "metadata": {},
     "output_type": "execute_result"
    }
   ],
   "source": [
    "words_tokens = word_tokenize(clearedText)\n",
    "stopwords = set(stopwords.words(\"english\"))\n",
    "filtered_list = []\n",
    "for word in words_tokens:\n",
    "    if word.casefold() not in stopwords:\n",
    "        filtered_list.append(word)\n",
    "\n",
    "filtered_list"
   ]
  },
  {
   "cell_type": "markdown",
   "id": "c8c07a76",
   "metadata": {},
   "source": [
    "# Stemming"
   ]
  },
  {
   "cell_type": "code",
   "execution_count": 22,
   "id": "33f85ea6",
   "metadata": {},
   "outputs": [
    {
     "name": "stdout",
     "output_type": "stream",
     "text": [
      "Perhaps  ============> perhap\n",
      "one  ============> one\n",
      "significant  ============> signific\n",
      "advances  ============> advanc\n",
      "made  ============> made\n",
      "byArabic  ============> byarab\n",
      "mathematicsbegan  ============> mathematicsbegan\n",
      "time  ============> time\n",
      "work  ============> work\n",
      "alKhwarizmi  ============> alkhwarizmi\n",
      "namely  ============> name\n",
      "beginnings  ============> begin\n",
      "algebra  ============> algebra\n",
      "important  ============> import\n",
      "understand  ============> understand\n",
      "significant  ============> signific\n",
      "new  ============> new\n",
      "idea  ============> idea\n",
      "revolutionary  ============> revolutionari\n",
      "move  ============> move\n",
      "away  ============> away\n",
      "Greek  ============> greek\n",
      "concept  ============> concept\n",
      "mathematics  ============> mathemat\n",
      "essentially  ============> essenti\n",
      "geometry  ============> geometri\n",
      "Algebra  ============> algebra\n",
      "unifying  ============> unifi\n",
      "theory  ============> theori\n",
      "allowedrational  ============> allowedr\n",
      "numbersirrational  ============> numbersirr\n",
      "numbers  ============> number\n",
      "geometrical  ============> geometr\n",
      "magnitudes  ============> magnitud\n",
      "etc  ============> etc\n",
      "treated  ============> treat\n",
      "algebraic  ============> algebra\n",
      "objects  ============> object\n",
      "gave  ============> gave\n",
      "mathematics  ============> mathemat\n",
      "whole  ============> whole\n",
      "new  ============> new\n",
      "development  ============> develop\n",
      "path  ============> path\n",
      "much  ============> much\n",
      "broader  ============> broader\n",
      "concept  ============> concept\n",
      "existed  ============> exist\n",
      "provided  ============> provid\n",
      "vehicle  ============> vehicl\n",
      "future  ============> futur\n",
      "development  ============> develop\n",
      "subject  ============> subject\n",
      "Another  ============> anoth\n",
      "important  ============> import\n",
      "aspect  ============> aspect\n",
      "introduction  ============> introduct\n",
      "algebraic  ============> algebra\n",
      "ideas  ============> idea\n",
      "allowed  ============> allow\n",
      "mathematics  ============> mathemat\n",
      "applied  ============> appli\n",
      "itselfin  ============> itselfin\n",
      "way  ============> way\n",
      "happened  ============> happen\n"
     ]
    }
   ],
   "source": [
    "stemmer = PorterStemmer()\n",
    "stemmed_words = []\n",
    "for word in filtered_list:\n",
    "    stem = stemmer.stem(word)\n",
    "    stemmed_words.append(stem)\n",
    "    print(f\"{word}  ============> {stem}\")\n"
   ]
  },
  {
   "cell_type": "markdown",
   "id": "76979be2",
   "metadata": {},
   "source": [
    "# Part Of Speach Tagging"
   ]
  },
  {
   "cell_type": "code",
   "execution_count": 23,
   "id": "c1d9e278",
   "metadata": {},
   "outputs": [
    {
     "name": "stdout",
     "output_type": "stream",
     "text": [
      "[('Perhaps', 'RB'), ('one', 'CD'), ('significant', 'JJ'), ('advances', 'NNS'), ('made', 'VBN'), ('byArabic', 'JJ'), ('mathematicsbegan', 'JJ'), ('time', 'NN'), ('work', 'NN'), ('alKhwarizmi', 'RB'), ('namely', 'RB'), ('beginnings', 'JJ'), ('algebra', 'NN'), ('important', 'JJ'), ('understand', 'NN'), ('significant', 'JJ'), ('new', 'JJ'), ('idea', 'NN'), ('revolutionary', 'JJ'), ('move', 'VB'), ('away', 'RB'), ('Greek', 'JJ'), ('concept', 'NN'), ('mathematics', 'NNS'), ('essentially', 'RB'), ('geometry', 'VBP'), ('Algebra', 'NNP'), ('unifying', 'VBG'), ('theory', 'JJ'), ('allowedrational', 'JJ'), ('numbersirrational', 'JJ'), ('numbers', 'NNS'), ('geometrical', 'JJ'), ('magnitudes', 'NNS'), ('etc', 'VBP'), ('treated', 'VBN'), ('algebraic', 'JJ'), ('objects', 'NNS'), ('gave', 'VBD'), ('mathematics', 'NNS'), ('whole', 'JJ'), ('new', 'JJ'), ('development', 'NN'), ('path', 'NN'), ('much', 'JJ'), ('broader', 'JJR'), ('concept', 'NN'), ('existed', 'VBD'), ('provided', 'JJ'), ('vehicle', 'NN'), ('future', 'NN'), ('development', 'NN'), ('subject', 'NN'), ('Another', 'DT'), ('important', 'JJ'), ('aspect', 'NN'), ('introduction', 'NN'), ('algebraic', 'IN'), ('ideas', 'NNS'), ('allowed', 'VBN'), ('mathematics', 'NNS'), ('applied', 'VBD'), ('itselfin', 'JJ'), ('way', 'NN'), ('happened', 'VBD')]\n"
     ]
    }
   ],
   "source": [
    "postag = nltk.pos_tag(filtered_list)\n",
    "print(postag)"
   ]
  },
  {
   "cell_type": "markdown",
   "id": "b20b5f6b",
   "metadata": {},
   "source": [
    "# Lemmatization"
   ]
  },
  {
   "cell_type": "code",
   "execution_count": 24,
   "id": "280773a3",
   "metadata": {},
   "outputs": [
    {
     "name": "stdout",
     "output_type": "stream",
     "text": [
      "Perhaps  ============> Perhaps\n",
      "one  ============> one\n",
      "significant  ============> significant\n",
      "advances  ============> advance\n",
      "made  ============> made\n",
      "byArabic  ============> byArabic\n",
      "mathematicsbegan  ============> mathematicsbegan\n",
      "time  ============> time\n",
      "work  ============> work\n",
      "alKhwarizmi  ============> alKhwarizmi\n",
      "namely  ============> namely\n",
      "beginnings  ============> beginning\n",
      "algebra  ============> algebra\n",
      "important  ============> important\n",
      "understand  ============> understand\n",
      "significant  ============> significant\n",
      "new  ============> new\n",
      "idea  ============> idea\n",
      "revolutionary  ============> revolutionary\n",
      "move  ============> move\n",
      "away  ============> away\n",
      "Greek  ============> Greek\n",
      "concept  ============> concept\n",
      "mathematics  ============> mathematics\n",
      "essentially  ============> essentially\n",
      "geometry  ============> geometry\n",
      "Algebra  ============> Algebra\n",
      "unifying  ============> unifying\n",
      "theory  ============> theory\n",
      "allowedrational  ============> allowedrational\n",
      "numbersirrational  ============> numbersirrational\n",
      "numbers  ============> number\n",
      "geometrical  ============> geometrical\n",
      "magnitudes  ============> magnitude\n",
      "etc  ============> etc\n",
      "treated  ============> treated\n",
      "algebraic  ============> algebraic\n",
      "objects  ============> object\n",
      "gave  ============> gave\n",
      "mathematics  ============> mathematics\n",
      "whole  ============> whole\n",
      "new  ============> new\n",
      "development  ============> development\n",
      "path  ============> path\n",
      "much  ============> much\n",
      "broader  ============> broader\n",
      "concept  ============> concept\n",
      "existed  ============> existed\n",
      "provided  ============> provided\n",
      "vehicle  ============> vehicle\n",
      "future  ============> future\n",
      "development  ============> development\n",
      "subject  ============> subject\n",
      "Another  ============> Another\n",
      "important  ============> important\n",
      "aspect  ============> aspect\n",
      "introduction  ============> introduction\n",
      "algebraic  ============> algebraic\n",
      "ideas  ============> idea\n",
      "allowed  ============> allowed\n",
      "mathematics  ============> mathematics\n",
      "applied  ============> applied\n",
      "itselfin  ============> itselfin\n",
      "way  ============> way\n",
      "happened  ============> happened\n"
     ]
    }
   ],
   "source": [
    "lemmatizer = WordNetLemmatizer()\n",
    "lemma_words = []\n",
    "for word in filtered_list:\n",
    "    lemma = lemmatizer.lemmatize(word)\n",
    "    lemma_words.append(lemma)\n",
    "    print(f\"{word}  ============> {lemma}\")"
   ]
  },
  {
   "cell_type": "markdown",
   "id": "745c1ae5",
   "metadata": {},
   "source": [
    "# Chunking"
   ]
  },
  {
   "cell_type": "code",
   "execution_count": 25,
   "id": "71f9ede9",
   "metadata": {},
   "outputs": [],
   "source": [
    "pos_tags = nltk.pos_tag(filtered_list)"
   ]
  },
  {
   "cell_type": "code",
   "execution_count": 26,
   "id": "17a3b5b4",
   "metadata": {},
   "outputs": [],
   "source": [
    "# start with optionnal determiner (DT), any number of adjectives (JJ), end with noun (NN)\n",
    "grammarRegex = \"NP: {<DT>?<JJ>*<NN>}\""
   ]
  },
  {
   "cell_type": "code",
   "execution_count": 27,
   "id": "5769e78c",
   "metadata": {},
   "outputs": [],
   "source": [
    "chunk_parser = nltk.RegexpParser(grammarRegex)"
   ]
  },
  {
   "cell_type": "code",
   "execution_count": 35,
   "id": "c378a19f",
   "metadata": {},
   "outputs": [],
   "source": [
    "tree = chunk_parser.parse(pos_tags)\n",
    "tree.draw()"
   ]
  },
  {
   "cell_type": "markdown",
   "id": "3fd7b81c",
   "metadata": {},
   "source": [
    "# Get dependencies"
   ]
  },
  {
   "cell_type": "code",
   "execution_count": 10,
   "id": "f8251a38",
   "metadata": {},
   "outputs": [],
   "source": [
    "%load_ext watermark"
   ]
  },
  {
   "cell_type": "code",
   "execution_count": 11,
   "id": "fa525728",
   "metadata": {},
   "outputs": [
    {
     "name": "stdout",
     "output_type": "stream",
     "text": [
      "nltk: 3.6.1\n",
      "\n"
     ]
    }
   ],
   "source": [
    "%watermark --iversions"
   ]
  },
  {
   "cell_type": "code",
   "execution_count": null,
   "id": "1cfd99e2",
   "metadata": {},
   "outputs": [],
   "source": []
  }
 ],
 "metadata": {
  "kernelspec": {
   "display_name": "Python 3",
   "language": "python",
   "name": "python3"
  },
  "language_info": {
   "codemirror_mode": {
    "name": "ipython",
    "version": 3
   },
   "file_extension": ".py",
   "mimetype": "text/x-python",
   "name": "python",
   "nbconvert_exporter": "python",
   "pygments_lexer": "ipython3",
   "version": "3.8.8"
  }
 },
 "nbformat": 4,
 "nbformat_minor": 5
}
